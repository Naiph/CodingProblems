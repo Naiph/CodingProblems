{
 "cells": [
  {
   "cell_type": "markdown",
   "metadata": {},
   "source": [
    "Given a sorted array having 10 elements which contains 6 different numbers in which only 1 number is repeated five times. Your task is to find the duplicate number using two comparisons only.\n",
    "\n",
    "Examples:\n",
    "\n",
    "Input: A[] = {1, 1, 1, 1, 1, 5, 7, 10, 20, 30}\n",
    "Output: 1\n",
    "\n",
    "Input: A[] = {1, 2, 3, 3, 3, 3, 3, 5, 9, 10}\n",
    "Output: 3\n",
    "\n",
    "\n",
    "Input:\n",
    "The first line of input contains an integer T denoting the no of test cases. Then T test cases follow . Each test case contains 10 space separated values of the array A[].\n",
    "\n",
    "Output:\n",
    "For each test case in a new line print the required duplicate element.\n",
    "\n",
    "Constraints:\n",
    "1<=T<=100\n",
    "1<=A[]<=10^5+5\n",
    "\n",
    "Example:\n",
    "Input:\n",
    "2\n",
    "1 2 4 5 6 9 9 9 9 9\n",
    "1 2 3 3 3 3 3 5 9 10\n",
    "\n",
    "Output:\n",
    "9\n",
    "3"
   ]
  },
  {
   "cell_type": "code",
   "execution_count": 20,
   "metadata": {},
   "outputs": [
    {
     "name": "stdout",
     "output_type": "stream",
     "text": [
      "Enter 10 number as the inputs for the list: 1\n",
      "Enter 10 number as the inputs for the list: 2\n",
      "Enter 10 number as the inputs for the list: 4\n",
      "Enter 10 number as the inputs for the list: 5\n",
      "Enter 10 number as the inputs for the list: 6\n",
      "Enter 10 number as the inputs for the list: 6\n",
      "Enter 10 number as the inputs for the list: 6\n",
      "Enter 10 number as the inputs for the list: 6\n",
      "Enter 10 number as the inputs for the list: 6\n",
      "Enter 10 number as the inputs for the list: 9\n",
      "6\n"
     ]
    }
   ],
   "source": [
    "A = [1,1,1,1,1,2,3,4,5,6]\n",
    "A = [1,2,2,2,2,2,3,4,5,6]     A[2] and A[3]\n",
    "A = [1,2,3,3,3,3,3,4,5,6]   then A[2] and A[6]\n",
    "\n",
    "#A = [1,2,3,4,4,4,4,4,5,6]\n",
    "#A = [1,2,3,4,5,5,5,5,5,6]\n",
    "#A = [1,2,3,4,5,6,6,6,6,6] \n",
    "\n",
    "def twocp():\n",
    "    A = []\n",
    "    for i in range(10):    \n",
    "        a = int(input(\"Enter 10 number as the inputs for the list: \"))\n",
    "        A.append(a)\n",
    "\n",
    "    if A[2] == A[3]:\n",
    "\n",
    "        diff = A[6] - A[2]\n",
    "\n",
    "        if diff == 0:\n",
    "            #return A[2]\n",
    "            print(A[2])\n",
    "        d1 = A[6] - A[0]\n",
    "        d2 = A[6] - A[1]\n",
    "\n",
    "        if d1 == d2:\n",
    "            #return A[0]\n",
    "            print(A[0])\n",
    "        else:\n",
    "            #return A[1]\n",
    "            print(A[1])\n",
    "\n",
    "\n",
    "#1 2 4 5 6 9 9 9 9 9\n",
    "#1 2 4 5 6 6 6 6 6 9\n",
    "    elif A[2] < A[3]:\n",
    "        diff = A[7] - A[3]\n",
    "        if diff == 0:\n",
    "            #return A[3]\n",
    "            print(A[3])\n",
    "        d1 = A[9] - A[4]\n",
    "        d2 = A[9] - A[5]\n",
    "\n",
    "        if d1 == d2:\n",
    "            #return A[4]\n",
    "            print(A[4])\n",
    "        else:\n",
    "            #return A[5]\n",
    "            print(A[5])\n",
    "        \n",
    "twocp()   \n",
    "\n",
    "\n",
    "\n",
    "    "
   ]
  },
  {
   "cell_type": "code",
   "execution_count": null,
   "metadata": {},
   "outputs": [],
   "source": []
  },
  {
   "cell_type": "code",
   "execution_count": null,
   "metadata": {},
   "outputs": [],
   "source": []
  },
  {
   "cell_type": "code",
   "execution_count": null,
   "metadata": {},
   "outputs": [],
   "source": []
  }
 ],
 "metadata": {
  "kernelspec": {
   "display_name": "Python 3",
   "language": "python",
   "name": "python3"
  },
  "language_info": {
   "codemirror_mode": {
    "name": "ipython",
    "version": 3
   },
   "file_extension": ".py",
   "mimetype": "text/x-python",
   "name": "python",
   "nbconvert_exporter": "python",
   "pygments_lexer": "ipython3",
   "version": "3.5.4"
  }
 },
 "nbformat": 4,
 "nbformat_minor": 2
}
