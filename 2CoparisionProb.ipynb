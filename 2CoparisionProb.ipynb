{
 "cells": [
  {
   "cell_type": "markdown",
   "metadata": {},
   "source": [
    "Given a sorted array having 10 elements which contains 6 different numbers in which only 1 number is repeated five times. Your task is to find the duplicate number using two comparisons only.\n",
    "\n",
    "Examples:\n",
    "\n",
    "Input: A[] = {1, 1, 1, 1, 1, 5, 7, 10, 20, 30}\n",
    "Output: 1\n",
    "\n",
    "Input: A[] = {1, 2, 3, 3, 3, 3, 3, 5, 9, 10}\n",
    "Output: 3\n",
    "\n",
    "\n",
    "Input:\n",
    "The first line of input contains an integer T denoting the no of test cases. Then T test cases follow . Each test case contains 10 space separated values of the array A[].\n",
    "\n",
    "Output:\n",
    "For each test case in a new line print the required duplicate element.\n",
    "\n",
    "Constraints:\n",
    "1<=T<=100\n",
    "1<=A[]<=10^5+5\n",
    "\n",
    "Example:\n",
    "Input:\n",
    "2\n",
    "1 2 4 5 6 9 9 9 9 9\n",
    "1 2 3 3 3 3 3 5 9 10\n",
    "\n",
    "Output:\n",
    "9\n",
    "3"
   ]
  },
  {
   "cell_type": "code",
   "execution_count": 8,
   "metadata": {},
   "outputs": [
    {
     "ename": "SyntaxError",
     "evalue": "invalid syntax (<ipython-input-8-9a8ad00f5309>, line 13)",
     "output_type": "error",
     "traceback": [
      "\u001b[1;36m  File \u001b[1;32m\"<ipython-input-8-9a8ad00f5309>\"\u001b[1;36m, line \u001b[1;32m13\u001b[0m\n\u001b[1;33m    elif:\u001b[0m\n\u001b[1;37m        ^\u001b[0m\n\u001b[1;31mSyntaxError\u001b[0m\u001b[1;31m:\u001b[0m invalid syntax\n"
     ]
    }
   ],
   "source": [
    "#A = [1,1,1,1,1,2,3,4,5,6]\n",
    "#A = [1,2,2,2,2,2,3,4,5,6]     A[2] and A[3]\n",
    "#A = [1,2,3,3,3,3,3,4,5,6]\n",
    "\n",
    "\n",
    "#A = [1,2,3,4,4,4,4,4,5,6]\n",
    "#A = [1,2,3,4,5,5,5,5,5,6]\n",
    "#A = [1,2,3,4,5,6,6,6,6,6]\n",
    "\n",
    "#A = []\n",
    "#for i in range(10):    \n",
    " #   a = int(input(\"Enter 10 number as the inputs for the list: \"))\n",
    "   # A.append(a)\n",
    "#if A[9] == A[8]:\n",
    "  #s  print(A[9])\n",
    "    \n",
    "#elif:\n",
    "    "
   ]
  },
  {
   "cell_type": "code",
   "execution_count": null,
   "metadata": {},
   "outputs": [],
   "source": []
  },
  {
   "cell_type": "code",
   "execution_count": null,
   "metadata": {},
   "outputs": [],
   "source": []
  },
  {
   "cell_type": "code",
   "execution_count": null,
   "metadata": {},
   "outputs": [],
   "source": []
  },
  {
   "cell_type": "code",
   "execution_count": null,
   "metadata": {},
   "outputs": [],
   "source": []
  }
 ],
 "metadata": {
  "kernelspec": {
   "display_name": "Python 3",
   "language": "python",
   "name": "python3"
  },
  "language_info": {
   "codemirror_mode": {
    "name": "ipython",
    "version": 3
   },
   "file_extension": ".py",
   "mimetype": "text/x-python",
   "name": "python",
   "nbconvert_exporter": "python",
   "pygments_lexer": "ipython3",
   "version": "3.7.1"
  }
 },
 "nbformat": 4,
 "nbformat_minor": 2
}
