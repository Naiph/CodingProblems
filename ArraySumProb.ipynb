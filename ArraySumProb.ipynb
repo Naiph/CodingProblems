{
 "cells": [
  {
   "cell_type": "markdown",
   "metadata": {},
   "source": [
    "Given an array A of size N, construct a Sum Array S(of same size) such that S is equal to the sum of all the elements of A except A[i]. Your task is to complete the function SumArray(A, N) which accepts the array A and N(size of array).\n",
    "\n",
    "Input :\n",
    "The first line of input is the number of testcases T. Each of the test case contains two lines. The first line of which is an integer N(size of array). The second line contains N space separated integers.\n",
    "\n",
    "Output :\n",
    "For each test case print the sum array in new line.\n",
    "\n",
    "User Task:\n",
    "Since this is a functional problem you did not have to worry about the input. You just have to complete the function SumArray()."
   ]
  },
  {
   "cell_type": "code",
   "execution_count": 2,
   "metadata": {},
   "outputs": [],
   "source": [
    "## ArraySumProblem\n",
    "\n",
    "def sumArrayPuzzle():\n",
    "    A = [10,20,30,40,50]\n",
    "\n",
    "    summ = 0\n",
    "    S = []\n",
    "    for i in range(len(A)):\n",
    "        summ = summ + A[i]\n",
    "\n",
    "    #print(summ)\n",
    "    for i in range(len(A)):\n",
    "        a = summ - A[i]\n",
    "        S.append(a)\n",
    "    #print(S)\n",
    "\n",
    "\n",
    "    \n",
    "\n",
    "sumArrayPuzzle()"
   ]
  },
  {
   "cell_type": "code",
   "execution_count": null,
   "metadata": {
    "collapsed": true
   },
   "outputs": [],
   "source": []
  }
 ],
 "metadata": {
  "kernelspec": {
   "display_name": "Python 3",
   "language": "python",
   "name": "python3"
  },
  "language_info": {
   "codemirror_mode": {
    "name": "ipython",
    "version": 3
   },
   "file_extension": ".py",
   "mimetype": "text/x-python",
   "name": "python",
   "nbconvert_exporter": "python",
   "pygments_lexer": "ipython3",
   "version": "3.6.1"
  }
 },
 "nbformat": 4,
 "nbformat_minor": 2
}
