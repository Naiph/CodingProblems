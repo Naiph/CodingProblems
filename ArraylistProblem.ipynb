{
 "cells": [
  {
   "cell_type": "markdown",
   "metadata": {},
   "source": [
    "Given an ArrayList of N lowercase characters. The task is to count frequency of elements in the list.\n",
    "\n",
    "Note: use add() to append element in the list and contains() to check an element is present or not in the list and collections.frequency() to find the frequency of the element in the list.\n",
    "\n",
    "Input Format:\n",
    "First line of testcase contains T, number of testcases. For each testcase, first line contains number of queries Q. Each query may be any one of the two type:\n",
    "1. \"i\" with \"c\" : insert the element \"c\" into the ArrayList\n",
    "2. \"f\" with \"c\": find the frequency of \"c\" in the ArrayList.\n",
    "\n",
    "Output Format:\n",
    "For each testcase, output the frequency of elements. Print \"Not Present\" if element is not present in the list else its frequency in new line for every query.\n",
    "\n",
    "Your Task:\n",
    "Your task is to complete the functions insert() and freq() which are used to insert and find frequency of element respectively.\n",
    "\n",
    "Constraints:\n",
    "1 <= T <= 100\n",
    "1 <= N <= 105\n",
    "1 <= Q <= 102\n",
    "\n",
    "Example:\n",
    "Input:\n",
    "2\n",
    "6\n",
    "i g i e i e i k i s f e\n",
    "4\n",
    "i c i p i p f f\n",
    "\n",
    "Output:\n",
    "2\n",
    "Not Present\n",
    "\n",
    "Explanation:\n",
    "Testcase 1: Inserting g, e, e, k, s into the list. Frequency of e is 2 in the list.\n",
    "Testcase 2: Inserting c, p, p into the list. Frequency of f is 0 in the list."
   ]
  },
  {
   "cell_type": "code",
   "execution_count": null,
   "metadata": {},
   "outputs": [],
   "source": []
  }
 ],
 "metadata": {
  "kernelspec": {
   "display_name": "Python 3",
   "language": "python",
   "name": "python3"
  },
  "language_info": {
   "codemirror_mode": {
    "name": "ipython",
    "version": 3
   },
   "file_extension": ".py",
   "mimetype": "text/x-python",
   "name": "python",
   "nbconvert_exporter": "python",
   "pygments_lexer": "ipython3",
   "version": "3.5.4"
  }
 },
 "nbformat": 4,
 "nbformat_minor": 2
}
