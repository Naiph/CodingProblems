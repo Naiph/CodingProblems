{
 "cells": [
  {
   "cell_type": "markdown",
   "metadata": {},
   "source": [
    "How many ways are there to place a black and a white knight on an N * M chessboard such that they do not attack each other? The knights have to be placed on different squares. A knight can move two squares horizontally and one square vertically, or two squares vertically and one square horizontally. The knights attack each other if one can reach the other in one move.\n",
    "\n",
    "Input :\n",
    "\n",
    "The first line contains the number of test cases T. Each of the next T lines contains two integers N and M.\n",
    "\n",
    "Output :\n",
    "\n",
    "Output T lines, one for each test case, each containing the required answer for the corresponding test case.\n",
    "\n",
    "Sample Input :\n",
    "3\n",
    "\n",
    "2 2\n",
    "\n",
    "2 3\n",
    "\n",
    "4 5\n",
    "\n",
    "Sample Output :\n",
    "\n",
    "12\n",
    "\n",
    "26\n",
    "\n",
    "312"
   ]
  },
  {
   "cell_type": "code",
   "execution_count": 2,
   "metadata": {},
   "outputs": [
    {
     "name": "stdout",
     "output_type": "stream",
     "text": [
      "Enter the number of iterations2\n",
      "M: 2\n",
      "N: 3\n",
      "26\n",
      "M: 4\n",
      "N: 5\n",
      "312\n"
     ]
    }
   ],
   "source": [
    "a = int(input(\"Enter the number of iterations\"))\n",
    "\n",
    "for i in range(a):\n",
    "    m = int(input(\"M: \"))\n",
    "    n = int(input(\"N: \"))\n",
    "    # m = 8, n= 17 cb = 17556\n",
    "    cb = (m * n * (m*n -1)) - (8 + 24 + 4*(2*(n-4)+2*(m-4)+4) + 6*(2*(n-4)+ 2*(m-4)) + 8*(m-4)*(n-4))\n",
    "    print(cb)\n",
    "    \n"
   ]
  },
  {
   "cell_type": "code",
   "execution_count": null,
   "metadata": {
    "collapsed": true
   },
   "outputs": [],
   "source": []
  },
  {
   "cell_type": "code",
   "execution_count": null,
   "metadata": {
    "collapsed": true
   },
   "outputs": [],
   "source": []
  },
  {
   "cell_type": "code",
   "execution_count": null,
   "metadata": {
    "collapsed": true
   },
   "outputs": [],
   "source": []
  }
 ],
 "metadata": {
  "kernelspec": {
   "display_name": "Python 3",
   "language": "python",
   "name": "python3"
  },
  "language_info": {
   "codemirror_mode": {
    "name": "ipython",
    "version": 3
   },
   "file_extension": ".py",
   "mimetype": "text/x-python",
   "name": "python",
   "nbconvert_exporter": "python",
   "pygments_lexer": "ipython3",
   "version": "3.6.1"
  }
 },
 "nbformat": 4,
 "nbformat_minor": 2
}
